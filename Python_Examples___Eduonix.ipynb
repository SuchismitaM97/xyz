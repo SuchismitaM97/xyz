{
  "nbformat": 4,
  "nbformat_minor": 0,
  "metadata": {
    "colab": {
      "provenance": []
    },
    "kernelspec": {
      "name": "python3",
      "display_name": "Python 3"
    },
    "language_info": {
      "name": "python"
    }
  },
  "cells": [
    {
      "cell_type": "code",
      "execution_count": null,
      "metadata": {
        "id": "jEqJw0BKTEu3"
      },
      "outputs": [],
      "source": [
        "# sum of the square with a function \n",
        "def ss (n):\n",
        "    sum=0\n",
        "    for i in range(1,n+1):\n",
        "        print(i)\n",
        "        sum+=i*i\n",
        "    return sum\n",
        "        \n",
        "ss(10)       "
      ]
    },
    {
      "cell_type": "code",
      "source": [
        "# length of a list\n",
        "test_list = [ 1, 4, 5, 7, 8 ]\n",
        "print (len(test_list))\n",
        "a=0\n",
        "for i in test_list:\n",
        "    a+=1\n",
        "print(a)    \n",
        "    "
      ],
      "metadata": {
        "id": "4LemF5QWTGkd"
      },
      "execution_count": null,
      "outputs": []
    },
    {
      "cell_type": "code",
      "source": [
        "# Check if one list is subset of other\n",
        "\n",
        "test_list = [9, 5, 4, 8, 10]\n",
        "sub_list = [10, 5, 4]\n",
        "\n",
        "n=len(sub_list)\n",
        "flg=0\n",
        "for i in sub_list:\n",
        "    if i in test_list:\n",
        "        flg+=1\n",
        "if flg==n:\n",
        "    print(\"yes its here\")\n",
        "else:\n",
        "    print(\"no\")"
      ],
      "metadata": {
        "id": "XJ0bE7AtTNl1"
      },
      "execution_count": null,
      "outputs": []
    },
    {
      "cell_type": "code",
      "source": [
        "string = \"i am a very good data scientist, i love python\"\n",
        "vowels=[\"a\", \"e\", \"i\", \"o\", \"u\"]\n",
        "\n",
        "s=''.join([x for x in string if x not in vowels])\n",
        "print(s)"
      ],
      "metadata": {
        "colab": {
          "base_uri": "https://localhost:8080/"
        },
        "id": "LyNJhDxRTTKT",
        "outputId": "4d6c4b38-945f-4c67-942e-c4213c766733"
      },
      "execution_count": null,
      "outputs": [
        {
          "output_type": "stream",
          "name": "stdout",
          "text": [
            " m  vry gd dt scntst,  lv pythn\n"
          ]
        }
      ]
    },
    {
      "cell_type": "code",
      "source": [
        "#important palendrom\n",
        "def reverse (n):\n",
        "\n",
        "    b= n[::-1]\n",
        "    if n==b:\n",
        "        print(\"yes palnendrom\")\n",
        "    else:\n",
        "        print(\"no\")\n",
        "    \n",
        "string= \"kolkata\"\n",
        "reverse (string)"
      ],
      "metadata": {
        "colab": {
          "base_uri": "https://localhost:8080/"
        },
        "id": "PTluhiS_TbTb",
        "outputId": "fb3227d8-5385-41e2-e7fc-2d3bb18bb9cb"
      },
      "execution_count": null,
      "outputs": [
        {
          "output_type": "stream",
          "name": "stdout",
          "text": [
            "no\n"
          ]
        }
      ]
    },
    {
      "cell_type": "code",
      "source": [
        "#Reverse words in a given String in Python\n",
        "\n",
        "str =\"geeks quiz practice code\"\n",
        "s= str.split()[::-1]\n",
        "print (s)\n",
        "\n",
        "l= \" \".join(s)\n",
        "print(l)"
      ],
      "metadata": {
        "colab": {
          "base_uri": "https://localhost:8080/"
        },
        "id": "tZcyJDjYTqvz",
        "outputId": "cc5105c1-40c1-4e09-94c1-2bf5f5c8e091"
      },
      "execution_count": null,
      "outputs": [
        {
          "output_type": "stream",
          "name": "stdout",
          "text": [
            "['code', 'practice', 'quiz', 'geeks']\n",
            "code practice quiz geeks\n"
          ]
        }
      ]
    },
    {
      "cell_type": "code",
      "source": [
        "#Remove the 5th index character from the string \n",
        "test_str = \"GeeksForGeeks\"\n",
        "\n",
        "new_str=\"\"\n",
        "for i in range(len(test_str)):\n",
        "    if i!=5:\n",
        "        new_str+=test_str[i]\n",
        "        \n",
        "print(new_str)        "
      ],
      "metadata": {
        "colab": {
          "base_uri": "https://localhost:8080/"
        },
        "id": "KslKB3IzTrTU",
        "outputId": "304d3390-025f-4b63-8c10-acb5c3b44c8a"
      },
      "execution_count": null,
      "outputs": [
        {
          "output_type": "stream",
          "name": "stdout",
          "text": [
            "GeeksorGeeks\n"
          ]
        }
      ]
    },
    {
      "cell_type": "code",
      "source": [
        "# print the highest element\n",
        "a = 5\n",
        "b = 6\n",
        "c = 7\n",
        "str = 'c'\n",
        "\n",
        "if a>b and a>c and a>d:\n",
        "    print(a,\" is the greatest\")\n",
        "elif b>a and b>c:\n",
        "    print(b,\" is the greatest\")\n",
        "else:\n",
        "    print(str+\" is the greatest\")\n",
        "    "
      ],
      "metadata": {
        "id": "mOyfse1rTyxc",
        "colab": {
          "base_uri": "https://localhost:8080/"
        },
        "outputId": "74a541d4-39bb-471b-e3dc-c87bd86e4644"
      },
      "execution_count": 2,
      "outputs": [
        {
          "output_type": "stream",
          "name": "stdout",
          "text": [
            "c is the greatest\n"
          ]
        }
      ]
    },
    {
      "cell_type": "code",
      "source": [
        "# learn the definition of factorial first\n",
        "#find the factorial of a number\n",
        "\n",
        "a= input(\"put number\")\n",
        "a= int(a)\n",
        "c=1\n",
        "if a==1 or a==0:\n",
        "    print(1)\n",
        "else:\n",
        "    while a>0:\n",
        "        c=c*a\n",
        "        a=a-1\n",
        "    print(c)    "
      ],
      "metadata": {
        "colab": {
          "base_uri": "https://localhost:8080/"
        },
        "id": "Jo35938l8xo0",
        "outputId": "64b9173d-b334-416a-8811-61a646a162fe"
      },
      "execution_count": 1,
      "outputs": [
        {
          "output_type": "stream",
          "name": "stdout",
          "text": [
            "put number5\n",
            "120\n"
          ]
        }
      ]
    },
    {
      "cell_type": "code",
      "source": [
        "\n",
        "#Armstrong number\n",
        "\n",
        "num = input(\"Enter no.\")\n",
        "num = int(num)\n",
        "temp = num\n",
        "length_counter= 0\n",
        "while temp>0:\n",
        "    length_counter = length_counter+1\n",
        "    temp = temp//10\n",
        "temp = num\n",
        "sum = 0\n",
        "while temp>0:\n",
        "    digit = temp%10\n",
        "    sum = sum + digit**length_counter\n",
        "    temp = temp//10\n",
        "    \n",
        "    \n",
        "if sum == num:\n",
        "    print(\"its an armstrong number\")\n",
        "else:\n",
        "    print(\"its not\")"
      ],
      "metadata": {
        "colab": {
          "base_uri": "https://localhost:8080/"
        },
        "id": "45SyF6Nb858S",
        "outputId": "f804a0be-3dae-4936-93a8-6fff91dd0c31"
      },
      "execution_count": 3,
      "outputs": [
        {
          "output_type": "stream",
          "name": "stdout",
          "text": [
            "Enter no.5\n",
            "its an armstrong number\n"
          ]
        }
      ]
    }
  ]
}